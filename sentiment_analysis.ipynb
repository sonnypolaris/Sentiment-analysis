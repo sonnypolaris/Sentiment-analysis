{
 "cells": [
  {
   "cell_type": "markdown",
   "metadata": {},
   "source": [
    "### Sentiment Analysis using Snowflake-snowpark-python"
   ]
  },
  {
   "cell_type": "markdown",
   "metadata": {},
   "source": [
    "- Import required libraries listed in the below kernel\n",
    "- You can install the libraries using \n",
    "- - pip install <library_name> \n",
    "- - python -m pip install <library_name> "
   ]
  },
  {
   "cell_type": "code",
   "execution_count": 1,
   "metadata": {},
   "outputs": [
    {
     "name": "stderr",
     "output_type": "stream",
     "text": [
      "[nltk_data] Error loading punkt: <urlopen error [SSL:\n",
      "[nltk_data]     CERTIFICATE_VERIFY_FAILED] certificate verify failed:\n",
      "[nltk_data]     unable to get local issuer certificate (_ssl.c:1125)>\n",
      "[nltk_data] Error loading stopwords: <urlopen error [SSL:\n",
      "[nltk_data]     CERTIFICATE_VERIFY_FAILED] certificate verify failed:\n",
      "[nltk_data]     unable to get local issuer certificate (_ssl.c:1125)>\n",
      "[nltk_data] Error loading stopwords: <urlopen error [SSL:\n",
      "[nltk_data]     CERTIFICATE_VERIFY_FAILED] certificate verify failed:\n",
      "[nltk_data]     unable to get local issuer certificate (_ssl.c:1125)>\n",
      "[nltk_data] Error loading punkt: <urlopen error [SSL:\n",
      "[nltk_data]     CERTIFICATE_VERIFY_FAILED] certificate verify failed:\n",
      "[nltk_data]     unable to get local issuer certificate (_ssl.c:1125)>\n",
      "[nltk_data] Error loading wordnet: <urlopen error [SSL:\n",
      "[nltk_data]     CERTIFICATE_VERIFY_FAILED] certificate verify failed:\n",
      "[nltk_data]     unable to get local issuer certificate (_ssl.c:1125)>\n"
     ]
    }
   ],
   "source": [
    "# Import Libraries \n",
    "\n",
    "#snowflake-snowpark-python imports \n",
    "from snowflake.snowpark.session import Session\n",
    "from snowflake.snowpark.version import VERSION\n",
    "from snowflake.snowpark.functions import udtf, lit, table_function\n",
    "import snowflake.snowpark.types as T\n",
    "from snowflake.snowpark.types import StructField, StructType, StringType, IntegerType, FloatType, PandasDataFrameType,PandasDataFrame\n",
    "\n",
    "#nltk and related branches\n",
    "import nltk\n",
    "nltk.download('punkt')\n",
    "nltk.download('stopwords')\n",
    "from nltk.corpus import stopwords\n",
    "from nltk.sentiment.vader import SentimentIntensityAnalyzer\n",
    "\n",
    "import re\n",
    "import json\n",
    "import boto3\n",
    "import datetime\n",
    "import pandas as pd\n",
    "import numpy as np\n",
    "import text2emotion as te\n",
    "import matplotlib.pyplot as plt\n",
    "from wordcloud import WordCloud, STOPWORDS\n"
   ]
  },
  {
   "cell_type": "markdown",
   "metadata": {},
   "source": [
    "- Use the following script in case below nltk.download fails\n",
    "- - nltk.download('punkt')\n",
    "- - nltk.download('stopwords')\n",
    "\n",
    "***********************************************************************\n",
    "* import nltk\n",
    "* import ssl\n",
    "\n",
    "* try:\n",
    "*   _create_unverified_https_context = ssl._create_unverified_context\n",
    "* except AttributeError:\n",
    "*    pass\n",
    "* else:\n",
    "*    ssl._create_default_https_context = _create_unverified_https_context\n",
    "\n",
    "* nltk.download()\n",
    "************************************************************************"
   ]
  },
  {
   "cell_type": "markdown",
   "metadata": {},
   "source": [
    "#### Verify credentials"
   ]
  },
  {
   "cell_type": "code",
   "execution_count": 2,
   "metadata": {},
   "outputs": [
    {
     "name": "stdout",
     "output_type": "stream",
     "text": [
      "User                        : MOHAMMED\n",
      "Role                        : SE_ROLE\n",
      "Database                    : GDC_DEMO\n",
      "Schema                      : PUBLIC\n",
      "Warehouse                   : SE_DEMO_WH\n",
      "Snowflake version           : 7.33.1\n",
      "Snowpark for Python version : 1.6.1\n"
     ]
    }
   ],
   "source": [
    "# Create Snowflake Session object\n",
    "credentials_file = 'connection_MA.json' # Replace this filename with your credentials filename\n",
    "connection_parameters = json.load(open(credentials_file))\n",
    "conn = Session.builder.configs(connection_parameters).create()\n",
    "conn.sql_simplifier_enabled = True\n",
    "\n",
    "snowflake_environment = conn.sql('select current_user(), current_role(), current_database(), current_schema(), current_version(), current_warehouse()').collect()\n",
    "snowpark_version = VERSION\n",
    "\n",
    "# Current Environment Details\n",
    "print('User                        : {}'.format(snowflake_environment[0][0]))\n",
    "print('Role                        : {}'.format(snowflake_environment[0][1]))\n",
    "print('Database                    : {}'.format(snowflake_environment[0][2]))\n",
    "print('Schema                      : {}'.format(snowflake_environment[0][3]))\n",
    "print('Warehouse                   : {}'.format(snowflake_environment[0][5]))\n",
    "print('Snowflake version           : {}'.format(snowflake_environment[0][4]))\n",
    "print('Snowpark for Python version : {}.{}.{}'.format(snowpark_version[0],snowpark_version[1],snowpark_version[2]))"
   ]
  },
  {
   "cell_type": "markdown",
   "metadata": {},
   "source": [
    "#### Read data from snowflake database"
   ]
  },
  {
   "cell_type": "markdown",
   "metadata": {},
   "source": [
    "#### UDTFs"
   ]
  },
  {
   "cell_type": "code",
   "execution_count": 3,
   "metadata": {},
   "outputs": [],
   "source": [
    "# Defining a function\n",
    "# Reads JSON data from S3 Bucket and converts it to a Pandas Dataframe\n",
    "def read_json(bucket:str,filename:str)-> T.Variant:\n",
    "    import boto3\n",
    "    import json\n",
    "    import pandas as pd\n",
    "\n",
    "\n",
    "    s3 = boto3.client(\n",
    "        's3',\n",
    "        aws_access_key_id = 'XXXXXXXXXXXXXX',\n",
    "        aws_secret_access_key = 'xxxxxxxxxxxxxxxxxxxxxxxxxxxxx',\n",
    "\n",
    "    )\n",
    "\n",
    "    result = s3.get_object(Bucket = bucket, Key = filename) \n",
    "    text = result[\"Body\"].read().decode('utf-8')\n",
    "    json_list = text.strip().split('\\n')\n",
    "    data_dict =[]\n",
    "    # Process each JSON string\n",
    "    for json_str in json_list:\n",
    "        data_dict.append(json.loads(json_str))\n",
    "    \n",
    "    json_content_df = pd.DataFrame(data_dict)\n",
    "    return json_content_df"
   ]
  },
  {
   "cell_type": "code",
   "execution_count": 4,
   "metadata": {},
   "outputs": [],
   "source": [
    "#Calling a UDTF - result is obtained in the form of a pandas df\n",
    "# Bucket name = 'thoughtspot-snowpark'\n",
    "# File names - 'All_Beauty.json', 'meta_All_Beauty.json'\n",
    "all_beauty_df = read_json(\"thoughtspot-snowpark\", 'All_Beauty.json')\n",
    "meta_all_beauty_df = read_json(\"thoughtspot-snowpark\", 'meta_All_Beauty.json')\n"
   ]
  },
  {
   "cell_type": "markdown",
   "metadata": {},
   "source": [
    "#### Functions to perform analysis on the data"
   ]
  },
  {
   "cell_type": "code",
   "execution_count": 5,
   "metadata": {},
   "outputs": [],
   "source": [
    "# Define a function to clean the text\n",
    "def clean(text):\n",
    "# Removes all special characters and numericals leaving the alphabets\n",
    "    text = re.sub('[^A-Za-z]+', ' ', text)\n",
    "    return text\n",
    "\n",
    "analyzer = SentimentIntensityAnalyzer()\n",
    "# function to calculate vader sentiment\n",
    "def vadersentimentanalysis(review):\n",
    "    vs = analyzer.polarity_scores(review)\n",
    "    return vs['compound']\n",
    "\n",
    "# function to analyse\n",
    "def vader_analysis(compound):\n",
    "    if compound >= 0.5:\n",
    "        return 'Positive'\n",
    "    elif compound <= -0.5 :\n",
    "        return 'Negative'\n",
    "    else:\n",
    "        return 'Neutral'\n",
    "    \n",
    "# Function to find the matching keyword in the title\n",
    "def find_matching_keyword(title, keywords):\n",
    "    if pd.notna(title) and isinstance(title, str):\n",
    "        title_lower = title.lower()  # Convert title to lowercase for case-insensitive matching\n",
    "        for keyword in keywords:\n",
    "            if pd.notna(keyword):\n",
    "                keyword_words = keyword.lower().split()\n",
    "                if any(word in title_lower for word in keyword_words):\n",
    "                    return keyword\n",
    "    return 'Others'"
   ]
  },
  {
   "cell_type": "markdown",
   "metadata": {},
   "source": [
    "#### Data cleaning and merging "
   ]
  },
  {
   "cell_type": "code",
   "execution_count": 6,
   "metadata": {},
   "outputs": [
    {
     "name": "stderr",
     "output_type": "stream",
     "text": [
      "/var/folders/dm/cg0pgfr90sj6zv84qw8pj85w0000gp/T/ipykernel_15341/3420078450.py:19: SettingWithCopyWarning: \n",
      "A value is trying to be set on a copy of a slice from a DataFrame.\n",
      "Try using .loc[row_indexer,col_indexer] = value instead\n",
      "\n",
      "See the caveats in the documentation: https://pandas.pydata.org/pandas-docs/stable/user_guide/indexing.html#returning-a-view-versus-a-copy\n",
      "  no_duplicates_df['Cleaned Reviews'] = no_duplicates_df['reviewText'].apply(clean)\n"
     ]
    },
    {
     "data": {
      "text/html": [
       "<div>\n",
       "<style scoped>\n",
       "    .dataframe tbody tr th:only-of-type {\n",
       "        vertical-align: middle;\n",
       "    }\n",
       "\n",
       "    .dataframe tbody tr th {\n",
       "        vertical-align: top;\n",
       "    }\n",
       "\n",
       "    .dataframe thead th {\n",
       "        text-align: right;\n",
       "    }\n",
       "</style>\n",
       "<table border=\"1\" class=\"dataframe\">\n",
       "  <thead>\n",
       "    <tr style=\"text-align: right;\">\n",
       "      <th></th>\n",
       "      <th>index</th>\n",
       "      <th>overall</th>\n",
       "      <th>Date</th>\n",
       "      <th>reviewText</th>\n",
       "      <th>asin</th>\n",
       "      <th>title</th>\n",
       "      <th>brand</th>\n",
       "      <th>Cleaned Reviews</th>\n",
       "    </tr>\n",
       "  </thead>\n",
       "  <tbody>\n",
       "    <tr>\n",
       "      <th>0</th>\n",
       "      <td>0</td>\n",
       "      <td>5.0</td>\n",
       "      <td>2016-03-10</td>\n",
       "      <td>Excellent very good</td>\n",
       "      <td>7414204790</td>\n",
       "      <td>Lacto Calamine Skin Balance Oil control 120 ml...</td>\n",
       "      <td>Pirmal Healthcare</td>\n",
       "      <td>Excellent very good</td>\n",
       "    </tr>\n",
       "    <tr>\n",
       "      <th>1</th>\n",
       "      <td>2</td>\n",
       "      <td>5.0</td>\n",
       "      <td>2014-10-03</td>\n",
       "      <td>Magical</td>\n",
       "      <td>7414204790</td>\n",
       "      <td>Lacto Calamine Skin Balance Oil control 120 ml...</td>\n",
       "      <td>Pirmal Healthcare</td>\n",
       "      <td>Magical</td>\n",
       "    </tr>\n",
       "    <tr>\n",
       "      <th>2</th>\n",
       "      <td>4</td>\n",
       "      <td>4.0</td>\n",
       "      <td>2014-06-14</td>\n",
       "      <td>I do like the product a lot...I had bought the...</td>\n",
       "      <td>7414204790</td>\n",
       "      <td>Lacto Calamine Skin Balance Oil control 120 ml...</td>\n",
       "      <td>Pirmal Healthcare</td>\n",
       "      <td>I do like the product a lot I had bought them ...</td>\n",
       "    </tr>\n",
       "    <tr>\n",
       "      <th>3</th>\n",
       "      <td>5</td>\n",
       "      <td>5.0</td>\n",
       "      <td>2018-03-02</td>\n",
       "      <td>I have OILY skin. I have tried quite a few mat...</td>\n",
       "      <td>7414204790</td>\n",
       "      <td>Lacto Calamine Skin Balance Oil control 120 ml...</td>\n",
       "      <td>Pirmal Healthcare</td>\n",
       "      <td>I have OILY skin I have tried quite a few matt...</td>\n",
       "    </tr>\n",
       "    <tr>\n",
       "      <th>4</th>\n",
       "      <td>6</td>\n",
       "      <td>1.0</td>\n",
       "      <td>2017-10-05</td>\n",
       "      <td>Got different bottle looks dulpicate</td>\n",
       "      <td>7414204790</td>\n",
       "      <td>Lacto Calamine Skin Balance Oil control 120 ml...</td>\n",
       "      <td>Pirmal Healthcare</td>\n",
       "      <td>Got different bottle looks dulpicate</td>\n",
       "    </tr>\n",
       "  </tbody>\n",
       "</table>\n",
       "</div>"
      ],
      "text/plain": [
       "   index  overall        Date  \\\n",
       "0      0      5.0  2016-03-10   \n",
       "1      2      5.0  2014-10-03   \n",
       "2      4      4.0  2014-06-14   \n",
       "3      5      5.0  2018-03-02   \n",
       "4      6      1.0  2017-10-05   \n",
       "\n",
       "                                          reviewText        asin  \\\n",
       "0                                Excellent very good  7414204790   \n",
       "1                                            Magical  7414204790   \n",
       "2  I do like the product a lot...I had bought the...  7414204790   \n",
       "3  I have OILY skin. I have tried quite a few mat...  7414204790   \n",
       "4               Got different bottle looks dulpicate  7414204790   \n",
       "\n",
       "                                               title              brand  \\\n",
       "0  Lacto Calamine Skin Balance Oil control 120 ml...  Pirmal Healthcare   \n",
       "1  Lacto Calamine Skin Balance Oil control 120 ml...  Pirmal Healthcare   \n",
       "2  Lacto Calamine Skin Balance Oil control 120 ml...  Pirmal Healthcare   \n",
       "3  Lacto Calamine Skin Balance Oil control 120 ml...  Pirmal Healthcare   \n",
       "4  Lacto Calamine Skin Balance Oil control 120 ml...  Pirmal Healthcare   \n",
       "\n",
       "                                     Cleaned Reviews  \n",
       "0                                Excellent very good  \n",
       "1                                            Magical  \n",
       "2  I do like the product a lot I had bought them ...  \n",
       "3  I have OILY skin I have tried quite a few matt...  \n",
       "4               Got different bottle looks dulpicate  "
      ]
     },
     "execution_count": 6,
     "metadata": {},
     "output_type": "execute_result"
    }
   ],
   "source": [
    "# Convert \"reviewTime\" column to datetime\n",
    "all_beauty_df[\"reviewTime\"] = pd.to_datetime(all_beauty_df[\"reviewTime\"], format=\"%m %d, %Y\")\n",
    "\n",
    "# Extract the month and year components and combine them into a new column\n",
    "all_beauty_df[\"Date\"] = all_beauty_df[\"reviewTime\"].dt.date\n",
    "\n",
    "# Drop the original \"reviewTime\" column\n",
    "all_beauty_df.drop(\"reviewTime\", axis=1, inplace=True)\n",
    "\n",
    "#merging two datasets\n",
    "merged_df = pd.merge(all_beauty_df[['overall',\"Date\", \"reviewText\",\"asin\"]], meta_all_beauty_df[[\"title\" ,\"asin\",\"brand\"]], on=\"asin\", how=\"inner\")\n",
    "df_cleaned = merged_df.drop_duplicates('reviewText', keep=False)\n",
    "\n",
    "# Drop rows where the \"title\" column is null\n",
    "no_duplicates_df = df_cleaned[df_cleaned['title'] != '']\n",
    "no_duplicates_df = df_cleaned[df_cleaned['brand'] != '']\n",
    "\n",
    "# Cleaning the text in the review column\n",
    "no_duplicates_df['Cleaned Reviews'] = no_duplicates_df['reviewText'].apply(clean)\n",
    "no_duplicates_df = no_duplicates_df.reset_index()\n",
    "no_duplicates_df.head()\n"
   ]
  },
  {
   "cell_type": "markdown",
   "metadata": {},
   "source": [
    "#### Calculating Vader sentiment score and sentiment - positive, negative and neutral"
   ]
  },
  {
   "cell_type": "code",
   "execution_count": 8,
   "metadata": {},
   "outputs": [],
   "source": [
    "no_duplicates_df['Vader Sentiment'] = no_duplicates_df['reviewText'].apply(vadersentimentanalysis)\n",
    "no_duplicates_df['Vader Analysis'] = no_duplicates_df['Vader Sentiment'].apply(vader_analysis)"
   ]
  },
  {
   "cell_type": "markdown",
   "metadata": {},
   "source": [
    "#### Emotion detection using Text2emotion"
   ]
  },
  {
   "cell_type": "code",
   "execution_count": null,
   "metadata": {},
   "outputs": [],
   "source": [
    "emot_data = no_duplicates_df.drop(['asin'],axis=1)\n",
    "emot_data[\"Year\"] = emot_data[\"Date\"].apply(lambda x: datetime.datetime.strptime(x,\"%m-%d-%Y\").strftime(\"%Y\"))\n",
    "emot_data[\"Year\"] = emot_data[\"Year\"].astype('int')\n",
    "emotion_df=pd.DataFrame.from_records(emot_data.apply(lambda row: te.get_emotion(row['Cleaned Reviews']),axis=1))\n",
    "emotion_df_merge = pd.merge(emot_data, emotion_df, left_index=True, right_index=True)\n",
    "emotion_df_merge['emotion'] = emotion_df_merge[['Happy', 'Angry','Surprise', 'Sad', 'Fear']].idxmax(axis=1)\n",
    "emotion_df_merge.head()"
   ]
  },
  {
   "cell_type": "markdown",
   "metadata": {},
   "source": [
    "#### Category based analysis"
   ]
  },
  {
   "cell_type": "code",
   "execution_count": 13,
   "metadata": {},
   "outputs": [
    {
     "data": {
      "text/html": [
       "<div>\n",
       "<style scoped>\n",
       "    .dataframe tbody tr th:only-of-type {\n",
       "        vertical-align: middle;\n",
       "    }\n",
       "\n",
       "    .dataframe tbody tr th {\n",
       "        vertical-align: top;\n",
       "    }\n",
       "\n",
       "    .dataframe thead th {\n",
       "        text-align: right;\n",
       "    }\n",
       "</style>\n",
       "<table border=\"1\" class=\"dataframe\">\n",
       "  <thead>\n",
       "    <tr style=\"text-align: right;\">\n",
       "      <th></th>\n",
       "      <th>Date</th>\n",
       "      <th>Category</th>\n",
       "      <th>Vader Analysis</th>\n",
       "      <th>Vader Sentiment</th>\n",
       "    </tr>\n",
       "  </thead>\n",
       "  <tbody>\n",
       "    <tr>\n",
       "      <th>0</th>\n",
       "      <td>01-10-2016</td>\n",
       "      <td>Skin care</td>\n",
       "      <td>Positive</td>\n",
       "      <td>0.7841</td>\n",
       "    </tr>\n",
       "    <tr>\n",
       "      <th>1</th>\n",
       "      <td>01-03-2014</td>\n",
       "      <td>Skin care</td>\n",
       "      <td>Neutral</td>\n",
       "      <td>0.0000</td>\n",
       "    </tr>\n",
       "    <tr>\n",
       "      <th>2</th>\n",
       "      <td>01-14-2014</td>\n",
       "      <td>Skin care</td>\n",
       "      <td>Neutral</td>\n",
       "      <td>-0.2182</td>\n",
       "    </tr>\n",
       "    <tr>\n",
       "      <th>3</th>\n",
       "      <td>01-02-2018</td>\n",
       "      <td>Skin care</td>\n",
       "      <td>Positive</td>\n",
       "      <td>0.8605</td>\n",
       "    </tr>\n",
       "    <tr>\n",
       "      <th>4</th>\n",
       "      <td>01-05-2017</td>\n",
       "      <td>Skin care</td>\n",
       "      <td>Neutral</td>\n",
       "      <td>0.0000</td>\n",
       "    </tr>\n",
       "  </tbody>\n",
       "</table>\n",
       "</div>"
      ],
      "text/plain": [
       "         Date   Category Vader Analysis  Vader Sentiment\n",
       "0  01-10-2016  Skin care       Positive           0.7841\n",
       "1  01-03-2014  Skin care        Neutral           0.0000\n",
       "2  01-14-2014  Skin care        Neutral          -0.2182\n",
       "3  01-02-2018  Skin care       Positive           0.8605\n",
       "4  01-05-2017  Skin care        Neutral           0.0000"
      ]
     },
     "execution_count": 13,
     "metadata": {},
     "output_type": "execute_result"
    }
   ],
   "source": [
    "#Importing Keywords\n",
    "Keywords_df = pd.read_csv(\"Keywords_extraction.csv\")\n",
    "# print(Keywords_df.columns)\n",
    "# conn.createDataFrame(Keywords_df).write.mode('overwrite').save_as_table('CATEGORY_KEYWORDS')\n",
    "#Mapping each product to a category\n",
    "no_duplicates_df['Category'] = no_duplicates_df.apply(lambda row: find_matching_keyword(row['title'], Keywords_df['keywords']), axis=1)\n",
    "\n",
    "# List of columns to extract\n",
    "columns_to_extract = [\"Date\", \"Category\", \"Vader Analysis\", \"Vader Sentiment\"]\n",
    "\n",
    "# Create a new DataFrame with the selected columns\n",
    "category_time = no_duplicates_df[columns_to_extract].copy()\n",
    "\n",
    "category_time.reset_index(drop=True, inplace=True)\n",
    "# Use the value_counts() function to get the counts for each category in the 'Category' column\n",
    "value_counts = category_time['Category'].value_counts()\n",
    "\n",
    "# Filter the DataFrame to keep only the rows where the value count is greater than 10000\n",
    "selected_categories = value_counts.nlargest(10).index\n",
    "# Select only the columns where the 'Category' column matches the selected categories\n",
    "category_time = category_time[category_time['Category'].isin(selected_categories)]\n",
    "\n",
    "# conn.createDataFrame(category_time).write.mode('overwrite').save_as_table('CATEGORY_ANALYSIS')\n",
    "\n",
    "# Display the new table\n",
    "category_time.head()"
   ]
  },
  {
   "cell_type": "markdown",
   "metadata": {},
   "source": [
    "#### Recommendation"
   ]
  },
  {
   "cell_type": "code",
   "execution_count": 14,
   "metadata": {},
   "outputs": [],
   "source": [
    "# Step 1: Calculate the maximum 'Vader Sentiment' score for each group of 'title' and 'brand'\n",
    "mean_scores = no_duplicates_df.groupby(['title', 'brand'])['Vader Sentiment'].median()\n",
    "\n",
    "# Step 2: Create a new DataFrame to store the results\n",
    "result_df = no_duplicates_df.copy()\n",
    "\n",
    "# Step 3: Merge the calculated max_scores into the result_df based on the 'title' and 'brand' columns\n",
    "result_df = result_df.merge(mean_scores.rename('median_score'), left_on=['title', 'brand'], right_index=True)\n"
   ]
  },
  {
   "cell_type": "code",
   "execution_count": 15,
   "metadata": {},
   "outputs": [
    {
     "data": {
      "text/plain": [
       "(array([1.08000e+02, 2.49000e+02, 5.65000e+02, 1.09100e+03, 4.77100e+03,\n",
       "        4.55700e+03, 1.26930e+04, 3.46950e+04, 1.11913e+05, 3.13550e+04]),\n",
       " array([-0.9848 , -0.78636, -0.58792, -0.38948, -0.19104,  0.0074 ,\n",
       "         0.20584,  0.40428,  0.60272,  0.80116,  0.9996 ]),\n",
       " <BarContainer object of 10 artists>)"
      ]
     },
     "execution_count": 15,
     "metadata": {},
     "output_type": "execute_result"
    },
    {
     "data": {
      "image/png": "[encoded data removed]",
      "text/plain": [
       "<Figure size 640x480 with 1 Axes>"
      ]
     },
     "metadata": {},
     "output_type": "display_data"
    }
   ],
   "source": [
    "# Step 4: Assign the \"Recommendation\" based on the 'median_score' column\n",
    "result_df['Recommendation'] = result_df['median_score'].apply(lambda score: 'Recommended' if score > 0.75 else 'Not Recommended')\n",
    "\n",
    "# Display the result_df with the additional columns\n",
    "plt.hist(result_df['median_score'])"
   ]
  },
  {
   "cell_type": "markdown",
   "metadata": {},
   "source": [
    "#### Writing data to snowflake tables"
   ]
  },
  {
   "cell_type": "code",
   "execution_count": null,
   "metadata": {},
   "outputs": [],
   "source": [
    "#Use snowflake session \"conn\"\n",
    "no_duplicates_df_sf = conn.createDataFrame(no_duplicates_df)\n",
    "#Writing data to snowflake\n",
    "no_duplicates_df_sf.write.mode('overwrite').save_as_table('BEAUTY_PRODUCT_REVIEWS')"
   ]
  },
  {
   "cell_type": "code",
   "execution_count": null,
   "metadata": {},
   "outputs": [],
   "source": [
    "# Upload the processed dataframes to snowflake tables\n",
    "conn.createDataFrame(emotion_df).write.mode('overwrite').save_as_table('EMOTIONS_OVERALL')\n",
    "conn.createDataFrame(emotion_df_merge).write.mode('overwrite').save_as_table('EMOTIONS')\n",
    "conn.createDataFrame(category_time).write.mode('overwrite').save_as_table('CATEGORY_ANALYSIS')"
   ]
  },
  {
   "cell_type": "code",
   "execution_count": null,
   "metadata": {},
   "outputs": [],
   "source": [
    "#Upload recommendations to snowflake table\n",
    "columns_to_extract = ['brand', 'title', 'Category', 'median_score', 'Recommendation']\n",
    "recommendation_table = result_df[columns_to_extract]\n",
    "conn.createDataFrame(recommendation_table).write.mode('overwrite').save_as_table('RECOMMENDATIONS')\n"
   ]
  },
  {
   "cell_type": "code",
   "execution_count": null,
   "metadata": {},
   "outputs": [],
   "source": [
    "# Upload sentiment trends table to snowflake \n",
    "columns_to_extract = ['Date', 'reviewText', 'title', 'brand', 'Vader Sentiment', 'Vader Analysis', 'Category']\n",
    "st_tl_table=no_duplicates_df[columns_to_extract]\n",
    "conn.createDataFrame(st_tl_table).write.mode('overwrite').save_as_table('SENTIMENT_TRENDS')"
   ]
  }
 ],
 "metadata": {
  "kernelspec": {
   "display_name": ".venv",
   "language": "python",
   "name": "python3"
  },
  "language_info": {
   "codemirror_mode": {
    "name": "ipython",
    "version": 3
   },
   "file_extension": ".py",
   "mimetype": "text/x-python",
   "name": "python",
   "nbconvert_exporter": "python",
   "pygments_lexer": "ipython3",
   "version": "3.8.8rc1"
  },
  "orig_nbformat": 4
 },
 "nbformat": 4,
 "nbformat_minor": 2
}
